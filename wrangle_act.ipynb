{
 "cells": [
  {
   "cell_type": "code",
   "execution_count": 1,
   "metadata": {},
   "outputs": [],
   "source": [
    "#import packages\n",
    "import pandas as pd\n",
    "import requests\n",
    "import os as os\n",
    "import json \n",
    "import tweepy\n",
    "from timeit import default_timer as timer\n",
    "import ast"
   ]
  },
  {
   "cell_type": "markdown",
   "metadata": {},
   "source": [
    "# Gathring #"
   ]
  },
  {
   "cell_type": "code",
   "execution_count": 2,
   "metadata": {},
   "outputs": [],
   "source": [
    "df_csv=pd.read_csv(\"twitter-archive-enhanced.csv\")"
   ]
  },
  {
   "cell_type": "code",
   "execution_count": 3,
   "metadata": {},
   "outputs": [],
   "source": [
    "imgpre_url=\"https://d17h27t6h515a5.cloudfront.net/topher/2017/August/599fd2ad_image-predictions/image-predictions.tsv\""
   ]
  },
  {
   "cell_type": "code",
   "execution_count": 4,
   "metadata": {},
   "outputs": [],
   "source": [
    "imgpre_filename=imgpre_url.split(\"/\")[-1]"
   ]
  },
  {
   "cell_type": "code",
   "execution_count": 5,
   "metadata": {},
   "outputs": [],
   "source": [
    "response=requests.get(imgpre_url)"
   ]
  },
  {
   "cell_type": "code",
   "execution_count": 6,
   "metadata": {},
   "outputs": [],
   "source": [
    "with open(imgpre_filename,mode=\"wb\") as file:\n",
    "    file.write(response.content)"
   ]
  },
  {
   "cell_type": "code",
   "execution_count": 7,
   "metadata": {},
   "outputs": [],
   "source": [
    "df_img=pd.read_csv(imgpre_filename,sep=\"\\t\")"
   ]
  },
  {
   "cell_type": "markdown",
   "metadata": {},
   "source": [
    "## Prapring the api creditial from json file ##"
   ]
  },
  {
   "cell_type": "markdown",
   "metadata": {},
   "source": [
    "#you need to write your api in the attached json file\"\n",
    "credintials=pd.read_json(\"TweeterApiToken.json\")\n",
    "credintials.head()"
   ]
  },
  {
   "cell_type": "code",
   "execution_count": 9,
   "metadata": {
    "scrolled": true
   },
   "outputs": [],
   "source": [
    "consumer_key = credintials.tokens.APIkey\n",
    "consumer_secret = credintials.tokens.APISecretkey\n",
    "access_token = credintials.tokens.AccessToken\n",
    "access_secret = credintials.tokens.AccessTokenSecret"
   ]
  },
  {
   "cell_type": "code",
   "execution_count": 10,
   "metadata": {},
   "outputs": [],
   "source": [
    "auth=tweepy.OAuthHandler(consumer_key,consumer_secret)\n",
    "auth.set_access_token(access_token,access_secret)"
   ]
  },
  {
   "cell_type": "code",
   "execution_count": 11,
   "metadata": {},
   "outputs": [],
   "source": [
    "api=tweepy.API(auth,wait_on_rate_limit=True,wait_on_rate_limit_notify=True)"
   ]
  },
  {
   "cell_type": "code",
   "execution_count": 12,
   "metadata": {},
   "outputs": [],
   "source": [
    "# you need to change 0 to 1 if you want to start reading the tweets \n",
    "if (0) :\n",
    "    start = timer()\n",
    "    failer={}\n",
    "    Readinglog=\"\"\n",
    "    n=0\n",
    "    with open (\"tweet_json.txt\",mode=\"w\") as file:\n",
    "        for tweetid in df_csv.tweet_id:\n",
    "            n=n+1\n",
    "            Readinglog+=(str(n)+\" \"+str(tweetid)+\" \")\n",
    "            print ( n,\" : \",timer() )\n",
    "            try:\n",
    "                temp=api.get_status(tweetid, tweet_mode='extended')._json\n",
    "                Readinglog+=\"Success \"\n",
    "                json.dump(temp,file)            \n",
    "                file.writelines(\"\\n\")\n",
    "            except tweepy.TweepError as e:\n",
    "                Readinglog+=\"Faild \"\n",
    "                failer[tweetid]=e\n",
    "                pass\n",
    "            #print(temp[\"favorite\"])#favorite\n",
    "            Readinglog+=\"\\n\"\n",
    "            if n == 10000:\n",
    "                break\n",
    "    end = timer()\n",
    "    print ( end - start)\n",
    "    \n",
    "    start = timer()\n",
    "    failer={}\n",
    "    Readinglog1=\"\"\n",
    "    n=0\n",
    "    with open (\"tweet_json1.txt\",mode=\"w\") as file:\n",
    "        for tweetid in df_csv.tweet_id:\n",
    "            n=n+1\n",
    "            Readinglog1+=(str(n)+\" \"+str(tweetid)+\" \")\n",
    "            print ( n,\" : \",timer() )\n",
    "            try:\n",
    "                temp=api.get_status(tweetid, tweet_mode='extended')._json\n",
    "                Readinglog1+=\"Success \"\n",
    "                json.dump(temp,file)            \n",
    "                file.writelines(\"\\n\")\n",
    "            except tweepy.TweepError as e:\n",
    "                Readinglog1+=\"Faild \"\n",
    "                failer[tweetid]=e\n",
    "                pass\n",
    "            #print(temp[\"favorite\"])#favorite\n",
    "            Readinglog1+=\"\\n\"\n",
    "            if n == 10:\n",
    "                break\n",
    "\n",
    "    end = timer()\n",
    "    print ( end - start)"
   ]
  },
  {
   "cell_type": "code",
   "execution_count": 13,
   "metadata": {},
   "outputs": [],
   "source": [
    "#https://developer.twitter.com/en/docs/tweets/data-dictionary/overview/tweet-object.html\n",
    "with open (\"tweet_json1.txt\",mode=\"r\") as file:\n",
    "    lines=file.readlines()"
   ]
  },
  {
   "cell_type": "markdown",
   "metadata": {},
   "source": [
    "json.loads(lines[3])"
   ]
  },
  {
   "cell_type": "code",
   "execution_count": 15,
   "metadata": {},
   "outputs": [],
   "source": [
    "with open (\"tweet_json.txt\",mode=\"r\") as file:\n",
    "    lines=file.readlines()"
   ]
  },
  {
   "cell_type": "code",
   "execution_count": 16,
   "metadata": {},
   "outputs": [],
   "source": [
    "df_list=[]\n",
    "for line in lines:\n",
    "    line=json.loads(line)\n",
    "    df_list.append({\n",
    "        \"tweet_id\":line[\"id\"],\n",
    "        \"favorite_count\":line[\"favorite_count\"],\n",
    "        \"retweet_count\":line[\"retweet_count\"],\n",
    "           })"
   ]
  },
  {
   "cell_type": "code",
   "execution_count": 17,
   "metadata": {},
   "outputs": [],
   "source": [
    "df_api=pd.DataFrame(df_list)"
   ]
  },
  {
   "cell_type": "markdown",
   "metadata": {},
   "source": [
    "df_api.head()"
   ]
  },
  {
   "cell_type": "markdown",
   "metadata": {},
   "source": [
    "df_img.head()"
   ]
  },
  {
   "cell_type": "markdown",
   "metadata": {},
   "source": [
    "df_csv.head(50)"
   ]
  },
  {
   "cell_type": "markdown",
   "metadata": {},
   "source": [
    " # Assest  # \n",
    "## Quality: ## \n",
    " \n",
    " ### df_csv ###\n",
    " 1 - time stamp need to be changed to datatime instead of string<br/>\n",
    " 2 - dummy varialbs ( dog type ) need to be cleaned into int ( boolean)<br/>\n",
    " 3 - in_reply_to_status_id should be changed to string type <br/>\n",
    " 4 - retweeted_status_user_id  should be changed to string type <br/>\n",
    " 5 - rating_numerator ,rating_denominator  changing into one float variable<br/>\n",
    " <br/>\n",
    " ### df_img: ###\n",
    " changing id's into string <br/>\n",
    " <br/>\n",
    " #### df_api ####\n",
    " <br/>\n",
    " changing id's into string\n",
    " \n",
    " "
   ]
  },
  {
   "cell_type": "markdown",
   "metadata": {},
   "source": [
    "df_csv.head()"
   ]
  },
  {
   "cell_type": "markdown",
   "metadata": {},
   "source": [
    "df_csv.info()"
   ]
  },
  {
   "cell_type": "code",
   "execution_count": 23,
   "metadata": {
    "scrolled": true
   },
   "outputs": [
    {
     "data": {
      "text/plain": [
       "array(['None', 'doggo'], dtype=object)"
      ]
     },
     "execution_count": 23,
     "metadata": {},
     "output_type": "execute_result"
    }
   ],
   "source": [
    "df_csv.doggo.unique()"
   ]
  },
  {
   "cell_type": "code",
   "execution_count": 24,
   "metadata": {},
   "outputs": [
    {
     "data": {
      "text/plain": [
       "array(['None', 'floofer'], dtype=object)"
      ]
     },
     "execution_count": 24,
     "metadata": {},
     "output_type": "execute_result"
    }
   ],
   "source": [
    "df_csv.floofer.unique()"
   ]
  },
  {
   "cell_type": "code",
   "execution_count": 25,
   "metadata": {},
   "outputs": [
    {
     "data": {
      "text/plain": [
       "array(['None', 'puppo'], dtype=object)"
      ]
     },
     "execution_count": 25,
     "metadata": {},
     "output_type": "execute_result"
    }
   ],
   "source": [
    "df_csv.puppo.unique()"
   ]
  },
  {
   "cell_type": "code",
   "execution_count": 26,
   "metadata": {},
   "outputs": [
    {
     "data": {
      "text/plain": [
       "array(['None', 'pupper'], dtype=object)"
      ]
     },
     "execution_count": 26,
     "metadata": {},
     "output_type": "execute_result"
    }
   ],
   "source": [
    "df_csv.pupper.unique()"
   ]
  },
  {
   "cell_type": "markdown",
   "metadata": {},
   "source": [
    "df_csv[df_csv.expanded_urls.isna()].info()"
   ]
  },
  {
   "cell_type": "markdown",
   "metadata": {},
   "source": [
    "df_csv[df_csv.expanded_urls.isna()].head()"
   ]
  },
  {
   "cell_type": "code",
   "execution_count": 29,
   "metadata": {},
   "outputs": [
    {
     "data": {
      "text/html": [
       "<div>\n",
       "<style scoped>\n",
       "    .dataframe tbody tr th:only-of-type {\n",
       "        vertical-align: middle;\n",
       "    }\n",
       "\n",
       "    .dataframe tbody tr th {\n",
       "        vertical-align: top;\n",
       "    }\n",
       "\n",
       "    .dataframe thead th {\n",
       "        text-align: right;\n",
       "    }\n",
       "</style>\n",
       "<table border=\"1\" class=\"dataframe\">\n",
       "  <thead>\n",
       "    <tr style=\"text-align: right;\">\n",
       "      <th></th>\n",
       "      <th>tweet_id</th>\n",
       "      <th>in_reply_to_status_id</th>\n",
       "      <th>in_reply_to_user_id</th>\n",
       "      <th>timestamp</th>\n",
       "      <th>source</th>\n",
       "      <th>text</th>\n",
       "      <th>retweeted_status_id</th>\n",
       "      <th>retweeted_status_user_id</th>\n",
       "      <th>retweeted_status_timestamp</th>\n",
       "      <th>expanded_urls</th>\n",
       "      <th>rating_numerator</th>\n",
       "      <th>rating_denominator</th>\n",
       "      <th>name</th>\n",
       "      <th>doggo</th>\n",
       "      <th>floofer</th>\n",
       "      <th>pupper</th>\n",
       "      <th>puppo</th>\n",
       "    </tr>\n",
       "  </thead>\n",
       "  <tbody>\n",
       "  </tbody>\n",
       "</table>\n",
       "</div>"
      ],
      "text/plain": [
       "Empty DataFrame\n",
       "Columns: [tweet_id, in_reply_to_status_id, in_reply_to_user_id, timestamp, source, text, retweeted_status_id, retweeted_status_user_id, retweeted_status_timestamp, expanded_urls, rating_numerator, rating_denominator, name, doggo, floofer, pupper, puppo]\n",
       "Index: []"
      ]
     },
     "execution_count": 29,
     "metadata": {},
     "output_type": "execute_result"
    }
   ],
   "source": [
    "df_csv[df_csv.tweet_id.duplicated()]"
   ]
  },
  {
   "cell_type": "markdown",
   "metadata": {},
   "source": [
    "df_img.head()"
   ]
  },
  {
   "cell_type": "markdown",
   "metadata": {},
   "source": [
    "df_img.info()"
   ]
  },
  {
   "cell_type": "markdown",
   "metadata": {},
   "source": [
    "df_img.p3.unique()"
   ]
  },
  {
   "cell_type": "code",
   "execution_count": 33,
   "metadata": {},
   "outputs": [
    {
     "data": {
      "text/plain": [
       "array([1, 4, 2, 3], dtype=int64)"
      ]
     },
     "execution_count": 33,
     "metadata": {},
     "output_type": "execute_result"
    }
   ],
   "source": [
    "df_img.img_num.unique()"
   ]
  },
  {
   "cell_type": "markdown",
   "metadata": {},
   "source": [
    "df_img[df_img.img_num==4].info()"
   ]
  },
  {
   "cell_type": "markdown",
   "metadata": {},
   "source": [
    "df_img[df_img.img_num==4].head()"
   ]
  },
  {
   "cell_type": "markdown",
   "metadata": {},
   "source": [
    " df_api.head()"
   ]
  },
  {
   "cell_type": "markdown",
   "metadata": {},
   "source": [
    "df_api.info()"
   ]
  },
  {
   "cell_type": "markdown",
   "metadata": {},
   "source": [
    "  # Assest  # \n",
    "\n",
    " ## tideness ##\n",
    " \n",
    "1 -  df_api , df_csv  represent the same obeservations it would better to be merged together\n",
    " but we should be careful about the nullable and deference count between the raw<br/>\n",
    "2 - merged , df_img represent the same obeservations it would better to be merged together\n",
    " but we should be careful about the nullable and deference count between the raw"
   ]
  },
  {
   "cell_type": "markdown",
   "metadata": {},
   "source": [
    "# Cleaning #\n",
    "## Quality ##"
   ]
  },
  {
   "cell_type": "markdown",
   "metadata": {},
   "source": [
    "### df_csv ###\n",
    "1- chaging time into datatime type"
   ]
  },
  {
   "cell_type": "code",
   "execution_count": 38,
   "metadata": {},
   "outputs": [],
   "source": [
    "df_csv[\"timestamp\"]=pd.to_datetime(df_csv.timestamp)"
   ]
  },
  {
   "cell_type": "markdown",
   "metadata": {},
   "source": [
    "df_csv.info()"
   ]
  },
  {
   "cell_type": "markdown",
   "metadata": {},
   "source": [
    "### df_csv ###\n",
    "2- chaging retweeted_status_id and other id's into string type\n"
   ]
  },
  {
   "cell_type": "code",
   "execution_count": 40,
   "metadata": {},
   "outputs": [],
   "source": [
    "df_csv[\"tweet_id\"]=df_csv[\"tweet_id\"].astype(str)\n",
    "df_csv[\"retweeted_status_id\"]=df_csv[\"retweeted_status_id\"].astype(str)\n",
    "df_csv[\"retweeted_status_user_id\"]=df_csv[\"retweeted_status_user_id\"].astype(str)\n",
    "df_csv[\"in_reply_to_status_id\"]=df_csv[\"in_reply_to_status_id\"].astype(str)\n",
    "df_csv[\"in_reply_to_user_id\"]=df_csv[\"in_reply_to_user_id\"].astype(str)\n"
   ]
  },
  {
   "cell_type": "markdown",
   "metadata": {},
   "source": [
    "### df_csv ###\n",
    "3- changing rating into one column and droping the numerator and denominator note ( denominator = 0 ) should be droped\n"
   ]
  },
  {
   "cell_type": "code",
   "execution_count": 41,
   "metadata": {},
   "outputs": [],
   "source": [
    "df_csv=df_csv[df_csv[\"rating_denominator\"]!=0]"
   ]
  },
  {
   "cell_type": "code",
   "execution_count": 42,
   "metadata": {},
   "outputs": [],
   "source": [
    "df_csv[\"rating\"]=df_csv.rating_numerator / df_csv.rating_denominator"
   ]
  },
  {
   "cell_type": "code",
   "execution_count": 43,
   "metadata": {},
   "outputs": [],
   "source": [
    "df_csv.drop([\"rating_denominator\",\"rating_numerator\"],axis=1,inplace=True)"
   ]
  },
  {
   "cell_type": "markdown",
   "metadata": {},
   "source": [
    "### df_csv ###\n",
    "3- changing the dummy variabls into int type int( not boolean to get easy the discretive data even its int between 1 and 0)\n"
   ]
  },
  {
   "cell_type": "code",
   "execution_count": 44,
   "metadata": {},
   "outputs": [],
   "source": [
    "df_csv[\"doggo\"]=(df_csv[\"doggo\"]==\"doggo\").astype(int)"
   ]
  },
  {
   "cell_type": "code",
   "execution_count": 45,
   "metadata": {},
   "outputs": [],
   "source": [
    "df_csv[\"floofer\"]=(df_csv[\"floofer\"]==\"floofer\").astype(int)\n",
    "df_csv[\"pupper\"]=(df_csv[\"pupper\"]==\"pupper\").astype(int)\n",
    "df_csv[\"puppo\"]=(df_csv[\"puppo\"]==\"puppo\").astype(int)\n"
   ]
  },
  {
   "cell_type": "markdown",
   "metadata": {},
   "source": [
    "df_csv.info()"
   ]
  },
  {
   "cell_type": "code",
   "execution_count": 47,
   "metadata": {},
   "outputs": [],
   "source": [
    "df_csv[\"none\"]= (df_csv[\"doggo\"]+df_csv[\"floofer\"]+df_csv[\"pupper\"]+df_csv[\"puppo\"])==0"
   ]
  },
  {
   "cell_type": "code",
   "execution_count": 48,
   "metadata": {},
   "outputs": [],
   "source": [
    "df_csv[\"none\"]=df_csv[\"none\"].astype(int)"
   ]
  },
  {
   "cell_type": "markdown",
   "metadata": {},
   "source": [
    "df_csv.describe()"
   ]
  },
  {
   "cell_type": "markdown",
   "metadata": {},
   "source": [
    "### df_img  ###\n",
    "1- chaging id into string"
   ]
  },
  {
   "cell_type": "code",
   "execution_count": 50,
   "metadata": {},
   "outputs": [],
   "source": [
    "df_img[\"tweet_id\"]=df_img[\"tweet_id\"].astype(str)"
   ]
  },
  {
   "cell_type": "markdown",
   "metadata": {},
   "source": [
    "df_img.info()"
   ]
  },
  {
   "cell_type": "markdown",
   "metadata": {},
   "source": [
    "df_img.describe()"
   ]
  },
  {
   "cell_type": "markdown",
   "metadata": {},
   "source": [
    "### df_api  ###\n",
    "1- chaging id into string"
   ]
  },
  {
   "cell_type": "code",
   "execution_count": 53,
   "metadata": {},
   "outputs": [],
   "source": [
    "df_api[\"tweet_id\"]=df_api[\"tweet_id\"].astype(str)"
   ]
  },
  {
   "cell_type": "code",
   "execution_count": 54,
   "metadata": {},
   "outputs": [
    {
     "name": "stdout",
     "output_type": "stream",
     "text": [
      "<class 'pandas.core.frame.DataFrame'>\n",
      "RangeIndex: 2339 entries, 0 to 2338\n",
      "Data columns (total 3 columns):\n",
      "favorite_count    2339 non-null int64\n",
      "retweet_count     2339 non-null int64\n",
      "tweet_id          2339 non-null object\n",
      "dtypes: int64(2), object(1)\n",
      "memory usage: 54.9+ KB\n"
     ]
    }
   ],
   "source": [
    "df_api.info()"
   ]
  },
  {
   "cell_type": "markdown",
   "metadata": {},
   "source": [
    "df_api.describe()"
   ]
  },
  {
   "cell_type": "markdown",
   "metadata": {},
   "source": [
    "# Cleaning #\n",
    "## Tidiness ##"
   ]
  },
  {
   "cell_type": "markdown",
   "metadata": {},
   "source": [
    " ## df_api ,  df_csv ## \n",
    "represent the same obeservations it would better to be merged together but we should be careful about the nullable and deference count between the raw"
   ]
  },
  {
   "cell_type": "code",
   "execution_count": 56,
   "metadata": {},
   "outputs": [],
   "source": [
    "merged_1=df_csv.merge(df_api,how=\"inner\",on=\"tweet_id\")"
   ]
  },
  {
   "cell_type": "markdown",
   "metadata": {},
   "source": [
    "merged_1.head()"
   ]
  },
  {
   "cell_type": "markdown",
   "metadata": {},
   "source": [
    "merged_1.describe()"
   ]
  },
  {
   "cell_type": "markdown",
   "metadata": {},
   "source": [
    "merged_1.info()"
   ]
  },
  {
   "cell_type": "markdown",
   "metadata": {},
   "source": [
    "##    ## df_img ,  merged_1 ## \n",
    " df_img represent the same obeservations it would better to be merged together\n",
    " but we should be careful about the nullable and deference count between the raw"
   ]
  },
  {
   "cell_type": "code",
   "execution_count": 60,
   "metadata": {},
   "outputs": [],
   "source": [
    "merged_2=merged_1.merge(df_img,how=\"inner\",on=\"tweet_id\")"
   ]
  },
  {
   "cell_type": "markdown",
   "metadata": {},
   "source": [
    "merged_2.info()"
   ]
  },
  {
   "cell_type": "markdown",
   "metadata": {},
   "source": [
    "merged_2.describe()"
   ]
  },
  {
   "cell_type": "markdown",
   "metadata": {},
   "source": [
    "merged_2.head()"
   ]
  },
  {
   "cell_type": "markdown",
   "metadata": {},
   "source": [
    "# Saving Data #\n",
    "## saving as csv file ##\n",
    "\n"
   ]
  },
  {
   "cell_type": "code",
   "execution_count": 64,
   "metadata": {},
   "outputs": [],
   "source": [
    "merged_2.to_csv(\"twitter_archive_master.csv\",index_label=\"tweetid\")"
   ]
  },
  {
   "cell_type": "markdown",
   "metadata": {},
   "source": [
    "# Analysing and Visulisation #\n",
    "please open the second notebook <b>act_reprot.ipynb</b>"
   ]
  }
 ],
 "metadata": {
  "kernelspec": {
   "display_name": "Python 3",
   "language": "python",
   "name": "python3"
  },
  "language_info": {
   "codemirror_mode": {
    "name": "ipython",
    "version": 3
   },
   "file_extension": ".py",
   "mimetype": "text/x-python",
   "name": "python",
   "nbconvert_exporter": "python",
   "pygments_lexer": "ipython3",
   "version": "3.6.5"
  }
 },
 "nbformat": 4,
 "nbformat_minor": 2
}
