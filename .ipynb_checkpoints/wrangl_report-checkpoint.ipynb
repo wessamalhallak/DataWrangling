{
 "cells": [
  {
   "cell_type": "markdown",
   "metadata": {},
   "source": [
    "# Wrangling  Report\n",
    "\n",
    "##### By Wessam Alhallak"
   ]
  },
  {
   "cell_type": "markdown",
   "metadata": {},
   "source": [
    "## Table of Contents\n",
    "- [Introduction](#intro)\n",
    "- [The Data](#data)\n",
    "- [Gathering data](#gather)\n",
    "- [Assessing data](#assess)\n",
    "   - [Quality](#quality)\n",
    "   - [Tidiness](#tidiness)\n",
    "- [Cleaning data](#clean)\n",
    "- [Storing](#storing)\n",
    "- [Analyzing, and Visualizing](#Analysing)\n",
    "   - [Insight one & visualization](#one)\n",
    "   - [Insight two](#two)\n",
    "   - [Insight three & visualization](#three)\n",
    "   - [Insight four & visualization](#four)"
   ]
  },
  {
   "cell_type": "markdown",
   "metadata": {},
   "source": [
    "<a id='intro'></a>\n",
    "## Introduction\n",
    "\n",
    "wrangle WeRateDogs Twitter data to create interesting and trustworthy analyses and visualizations. The Twitter archive is great, but it only contains very basic tweet information. Additional gathering, then assessing and cleaning is required for \"Wow!\"-worthy analyses and visualizations."
   ]
  },
  {
   "cell_type": "markdown",
   "metadata": {},
   "source": [
    "<a id=\"data\"></a>\n",
    "## The Data\n",
    "### Enhanced Twitter Archive\n",
    "The WeRateDogs Twitter archive contains basic tweet data for all 5000+ of their tweets, but not everything. One column the archive does contain though: each tweet's text, which I used to extract rating, dog name, and dog \"stage\" (i.e. doggo, floofer, pupper, and puppo) to make this Twitter archive \"enhanced.\" Of the 5000+ tweets, I have filtered for tweets with ratings only (there are 2356).\n",
    "\n",
    "### Additional Data via the Twitter API\n",
    "\n",
    "Back to the basic-ness of Twitter archives: retweet count and favorite count are two of the notable column omissions. Fortunately, this additional data can be gathered by anyone from Twitter's API. Well, \"anyone\" who has access to data for the 3000 most recent tweets, at least. But you, because you have the WeRateDogs Twitter archive and specifically the tweet IDs within it, can gather this data for all 5000+. And guess what? You're going to query Twitter's API to gather this valuable data.\n",
    "\n",
    "\n",
    "### Image Predictions File\n",
    "One more cool thing: I ran every image in the WeRateDogs Twitter archive through a neural network that can classify breeds of dogs*. The results: a table full of image predictions (the top three only) alongside each tweet ID, image URL, and the image number that corresponded to the most confident prediction (numbered 1 to 4 since tweets can have up to four images).\n"
   ]
  },
  {
   "cell_type": "markdown",
   "metadata": {},
   "source": [
    "<a id=\"gather\"> </a>\n",
    "## Gathring Data"
   ]
  },
  {
   "cell_type": "markdown",
   "metadata": {},
   "source": [
    "### Reading The CSV from local file system\n",
    "Using Csv Panda Reader "
   ]
  },
  {
   "cell_type": "markdown",
   "metadata": {},
   "source": [
    "### Reading The img  Data file\n",
    "Using Request pacakge from python"
   ]
  },
  {
   "cell_type": "markdown",
   "metadata": {},
   "source": [
    "### Saving The img Data File\n",
    "using Panda save or any other os reading writing methods"
   ]
  },
  {
   "cell_type": "markdown",
   "metadata": {},
   "source": [
    "## Prapring the api creditial from json file ##"
   ]
  },
  {
   "cell_type": "markdown",
   "metadata": {},
   "source": [
    "twitter_api.py: This is the Twitter API code to gather some of the required data for the project. Read the code and comments, understand how the code works, then copy and paste it into your notebook.\n",
    "tweet_json.txt: This is the resulting data from twitter_api.py. You can proceed with the following part of \"Gathering Data for this Project\" on the Project Details page: \"Then read this tweet_json.txt file line by line into a pandas DataFrame with (at minimum) tweet ID, retweet count, and favorite count.\"\n",
    "\n"
   ]
  },
  {
   "cell_type": "markdown",
   "metadata": {},
   "source": [
    "<a id=\"assess\"></a>\n",
    " ## Assessing\n",
    " "
   ]
  },
  {
   "cell_type": "markdown",
   "metadata": {},
   "source": [
    "### Programmatically"
   ]
  },
  {
   "cell_type": "markdown",
   "metadata": {},
   "source": [
    "### Code"
   ]
  },
  {
   "cell_type": "markdown",
   "metadata": {},
   "source": [
    "- Some code I used to assess the data \n",
    "        df_csv.head(50)\n",
    "        df_img.head()\n",
    "        df_img.info()\n",
    "        df_api.head()\n",
    "        df_csv.info()\n",
    "        df_csv.doggo.unique()\n",
    "        df_csv.floofer.unique()\n",
    "        df_csv.puppo.unique()\n",
    "        df_csv.pupper.unique()\n",
    "        df_csv[df_csv.expanded_urls.isna()].info()\n",
    "        df_csv[df_csv.tweet_id.duplicated()]\n",
    "        pd.scatter_matrix(df_csv,figsize=(25,25))\n",
    "        pd.scatter_matrix(df_csv,figsize=(25,25))\n",
    "        df_img.head()\n",
    "        df_img.p3.unique()"
   ]
  },
  {
   "cell_type": "markdown",
   "metadata": {},
   "source": [
    "<a id=\"quality\"></a>\n",
    "\n",
    "## Assessing Results \n",
    "\n",
    "### Quality: \n",
    " \n",
    " #### df_csv\n",
    " 1 - time stamp need to be changed to datatime instead of string<br/>\n",
    " 2 - dummy varialbs ( dog type ) need to be cleaned into int ( boolean)<br/>\n",
    " 3 - in_reply_to_status_id should be changed to string type <br/>\n",
    " 4 - retweeted_status_user_id  should be changed to string type <br/>\n",
    " 5 - rating_numerator ,rating_denominator  changing into one float variable<br/>\n",
    " #### df_img:\n",
    " changing id's into string\n",
    " #### df_api\n",
    "\n",
    " changing id's into string\n",
    " "
   ]
  },
  {
   "cell_type": "markdown",
   "metadata": {},
   "source": [
    "<a id=\"tidiness\"></a>\n",
    " \n",
    "\n",
    "### Tideness\n",
    " \n",
    "1 - Dog stages need to be combined into one column<br/>\n",
    "2 -  df_api , df_csv  represent the same obeservations it would better to be merged together\n",
    " but we should be careful about the nullable and deference count between the raw<br/>\n",
    "3 - merged , df_img represent the same obeservations it would better to be merged together\n",
    " but we should be careful about the nullable and deference count between the raw"
   ]
  },
  {
   "cell_type": "markdown",
   "metadata": {},
   "source": [
    "<a id=\"clean\"></a>\n",
    "## Cleaning  Data\n",
    "\n",
    "### Quality "
   ]
  },
  {
   "cell_type": "markdown",
   "metadata": {},
   "source": [
    "### df_csv\n",
    "First We will copy our dataframe to a new data frame to ensure the consisty of our work"
   ]
  },
  {
   "cell_type": "markdown",
   "metadata": {},
   "source": [
    "#### Define"
   ]
  },
  {
   "cell_type": "markdown",
   "metadata": {},
   "source": [
    "chaging time into datatime type"
   ]
  },
  {
   "cell_type": "markdown",
   "metadata": {},
   "source": [
    "#### Code"
   ]
  },
  {
   "cell_type": "markdown",
   "metadata": {},
   "source": [
    "    df_csv_clean[\"timestamp\"]=pd.to_datetime(df_csv_clean.timestamp)"
   ]
  },
  {
   "cell_type": "markdown",
   "metadata": {},
   "source": [
    "#### Test"
   ]
  },
  {
   "cell_type": "markdown",
   "metadata": {},
   "source": [
    "    df_csv_clean.info()"
   ]
  },
  {
   "cell_type": "markdown",
   "metadata": {},
   "source": [
    "#### Define"
   ]
  },
  {
   "cell_type": "markdown",
   "metadata": {},
   "source": [
    "chaging tweet_id into string type\n"
   ]
  },
  {
   "cell_type": "markdown",
   "metadata": {},
   "source": [
    "#### Code"
   ]
  },
  {
   "cell_type": "markdown",
   "metadata": {},
   "source": [
    "    df_csv_clean[\"tweet_id\"]=df_csv_clean[\"tweet_id\"].astype(str)\n"
   ]
  },
  {
   "cell_type": "markdown",
   "metadata": {},
   "source": [
    "#### Test"
   ]
  },
  {
   "cell_type": "markdown",
   "metadata": {
    "scrolled": true
   },
   "source": [
    "    df_csv_clean.head()"
   ]
  },
  {
   "cell_type": "markdown",
   "metadata": {},
   "source": [
    "#### Define "
   ]
  },
  {
   "cell_type": "markdown",
   "metadata": {},
   "source": [
    "    Drop retweeted_status_id, retweeted_status_user_id,in_reply_to_status_id,in_reply_to_user_id"
   ]
  },
  {
   "cell_type": "markdown",
   "metadata": {},
   "source": [
    "#### Code"
   ]
  },
  {
   "cell_type": "markdown",
   "metadata": {},
   "source": [
    "    df_csv_clean.drop([\"retweeted_status_id\",\n",
    "                        \"retweeted_status_user_id\",\n",
    "                        \"in_reply_to_status_id\",\n",
    "                        \"in_reply_to_user_id\",\n",
    "                        \"retweeted_status_timestamp\"],\n",
    "                        axis=1,inplace=True)"
   ]
  },
  {
   "cell_type": "markdown",
   "metadata": {},
   "source": [
    "#### Test"
   ]
  },
  {
   "cell_type": "markdown",
   "metadata": {},
   "source": [
    "    df_csv_clean.info()"
   ]
  },
  {
   "cell_type": "markdown",
   "metadata": {},
   "source": [
    "#### Define\n",
    "The current pipeline captures incorrect values when rating numerators contain decimals\n",
    "and it will better to compine both numerator and deomerator in one column as it descripe one mesure\n"
   ]
  },
  {
   "cell_type": "markdown",
   "metadata": {},
   "source": [
    "#### Code"
   ]
  },
  {
   "cell_type": "markdown",
   "metadata": {
    "scrolled": false
   },
   "source": [
    "    df_csv_clean[df_csv_clean.rating_numerator>10].info()\n",
    "    ratting=df_csv_clean.text.str.extract('((?:\\d+\\.)?\\d+)\\/(\\d+)', expand=True)\n",
    "    df_csv_clean.rating_numerator=ratting[0].astype(float)\n",
    "    df_csv_clean.rating_denominator=ratting[1].astype(float)\n",
    "    df_csv_clean=df_csv_clean[df_csv_clean[\"rating_denominator\"]!=0]"
   ]
  },
  {
   "cell_type": "markdown",
   "metadata": {},
   "source": [
    "#### Test "
   ]
  },
  {
   "cell_type": "markdown",
   "metadata": {
    "scrolled": true
   },
   "source": [
    "    df_csv_clean.info()\n",
    "    df_csv_clean.describe()"
   ]
  },
  {
   "cell_type": "markdown",
   "metadata": {},
   "source": [
    "### df_img\n",
    "Copy df_img to a new dataframe\n"
   ]
  },
  {
   "cell_type": "markdown",
   "metadata": {},
   "source": [
    "#### Define\n",
    "1- chaging id into string"
   ]
  },
  {
   "cell_type": "markdown",
   "metadata": {},
   "source": [
    "#### Code"
   ]
  },
  {
   "cell_type": "markdown",
   "metadata": {},
   "source": [
    "    df_img_clean[\"tweet_id\"]=df_img_clean[\"tweet_id\"].astype(str)"
   ]
  },
  {
   "cell_type": "markdown",
   "metadata": {},
   "source": [
    "#### Test"
   ]
  },
  {
   "cell_type": "markdown",
   "metadata": {},
   "source": [
    "    df_img_clean.info()\n",
    "    df_img_clean.describe()"
   ]
  },
  {
   "cell_type": "markdown",
   "metadata": {},
   "source": [
    "### df_api  ###\n",
    "Copy df_api into other cleaning Dataframe"
   ]
  },
  {
   "cell_type": "markdown",
   "metadata": {},
   "source": [
    "    df_api_clean=df_api.copy()"
   ]
  },
  {
   "cell_type": "markdown",
   "metadata": {},
   "source": [
    "#### Define\n",
    "chage id into string"
   ]
  },
  {
   "cell_type": "markdown",
   "metadata": {},
   "source": [
    "#### Code"
   ]
  },
  {
   "cell_type": "markdown",
   "metadata": {},
   "source": [
    "    df_api_clean[\"tweet_id\"]=df_api_clean[\"tweet_id\"].astype(str)"
   ]
  },
  {
   "cell_type": "markdown",
   "metadata": {},
   "source": [
    "## Cleaning\n",
    "### Tidiness"
   ]
  },
  {
   "cell_type": "markdown",
   "metadata": {},
   "source": [
    "#### df_csv_clean \n",
    "#### Define\n",
    "\n",
    "Dog stages need to be combined into one column"
   ]
  },
  {
   "cell_type": "markdown",
   "metadata": {},
   "source": [
    "    df_csv_clean.loc[(df_csv_clean[['doggo', 'floofer', 'pupper', 'puppo']] != 'None'\n",
    "                 ).sum(axis=1) > 1]"
   ]
  },
  {
   "cell_type": "markdown",
   "metadata": {},
   "source": [
    "#### Code"
   ]
  },
  {
   "cell_type": "markdown",
   "metadata": {},
   "source": [
    "    df_csv_clean.doggo.replace(\"None\",\"\",inplace=True)\n",
    "    df_csv_clean.floofer.replace(\"None\",\"\",inplace=True)\n",
    "    df_csv_clean.pupper.replace(\"None\",\"\",inplace=True)\n",
    "    df_csv_clean.puppo.replace(\"None\",\"\",inplace=True)\n",
    "    df_csv_clean['stage'] = df_csv_clean.doggo + df_csv_clean.floofer + df_csv_clean.pupper + df_csv_clean.puppo\n",
    "    df_csv_clean.loc[df_csv_clean.stage == 'doggopupper', 'stage'] = 'doggo,pupper'\n",
    "    df_csv_clean.loc[df_csv_clean.stage == 'doggopuppo', 'stage'] = 'doggo,puppo'\n",
    "    df_csv_clean.loc[df_csv_clean.stage == 'doggofloofer', 'stage'] = 'doggo,floofer'\n",
    "    df_csv_clean.stage.replace(\"\",\"None\",inplace=True)"
   ]
  },
  {
   "cell_type": "markdown",
   "metadata": {},
   "source": [
    "#### Test"
   ]
  },
  {
   "cell_type": "markdown",
   "metadata": {},
   "source": [
    "    df_csv_clean.stage.value_counts()"
   ]
  },
  {
   "cell_type": "markdown",
   "metadata": {},
   "source": [
    "#### Define\n",
    "Drop the dummy variabls"
   ]
  },
  {
   "cell_type": "markdown",
   "metadata": {},
   "source": [
    "#### Code"
   ]
  },
  {
   "cell_type": "markdown",
   "metadata": {},
   "source": [
    "    df_csv_clean.drop(['doggo', 'floofer', 'pupper', 'puppo'],axis=1,inplace=True)"
   ]
  },
  {
   "cell_type": "markdown",
   "metadata": {},
   "source": [
    "#### Test"
   ]
  },
  {
   "cell_type": "markdown",
   "metadata": {},
   "source": [
    "    df_csv_clean.info()"
   ]
  },
  {
   "cell_type": "markdown",
   "metadata": {},
   "source": [
    " ### df_api ,  df_csv \n",
    " #### Define ##\n",
    " \n",
    "represent the same obeservations it would better to be merged together but we should be careful about the nullable and deference count between the raw\n"
   ]
  },
  {
   "cell_type": "markdown",
   "metadata": {},
   "source": [
    "#### Code\n",
    "We will Use merge for two Dataframe"
   ]
  },
  {
   "cell_type": "markdown",
   "metadata": {},
   "source": [
    "    merged_1=df_csv_clean.merge(df_api_clean,how=\"inner\",on=\"tweet_id\")"
   ]
  },
  {
   "cell_type": "markdown",
   "metadata": {},
   "source": [
    "#### Test"
   ]
  },
  {
   "cell_type": "markdown",
   "metadata": {},
   "source": [
    "    merged_1.describe()\n",
    "    merged_1.head()\n",
    "    merged_1.info()"
   ]
  },
  {
   "cell_type": "markdown",
   "metadata": {},
   "source": [
    "### df_img ,  merged_1\n",
    "#### Define\n",
    "df_img represent the same obeservations it would better to be merged together\n",
    " but we should be careful about the nullable and deference count between the raw"
   ]
  },
  {
   "cell_type": "markdown",
   "metadata": {},
   "source": [
    "#### Code"
   ]
  },
  {
   "cell_type": "markdown",
   "metadata": {},
   "source": [
    "    merged_2=merged_1.merge(df_img_clean,how=\"inner\",on=\"tweet_id\")"
   ]
  },
  {
   "cell_type": "markdown",
   "metadata": {},
   "source": [
    "#### Test "
   ]
  },
  {
   "cell_type": "markdown",
   "metadata": {},
   "source": [
    "    merged_2.info()\n",
    "    merged_2.describe()\n",
    "    merged_2.head()"
   ]
  },
  {
   "cell_type": "markdown",
   "metadata": {},
   "source": [
    "<a id=\"storing\"></a>\n",
    "## Saving Data \n",
    "### saving as csv  in local file system"
   ]
  },
  {
   "cell_type": "markdown",
   "metadata": {},
   "source": [
    "    df=merged_2.copy()"
   ]
  },
  {
   "cell_type": "markdown",
   "metadata": {},
   "source": [
    "#### Refernces : \n",
    "     1- https://github.com/latinacode/\n",
    "     2- https://www.python.org/\n",
    "     3- https://www.kaggle.com/datasets\n",
    "     4- https://stackabuse.com/reading-and-writing-json-to-a-file-in-python/\n",
    "     5- https://stackoverflow.com/questions/28384588/twitter-api-get-tweets-with-specific-id"
   ]
  }
 ],
 "metadata": {
  "kernelspec": {
   "display_name": "Python 3",
   "language": "python",
   "name": "python3"
  },
  "language_info": {
   "codemirror_mode": {
    "name": "ipython",
    "version": 3
   },
   "file_extension": ".py",
   "mimetype": "text/x-python",
   "name": "python",
   "nbconvert_exporter": "python",
   "pygments_lexer": "ipython3",
   "version": "3.6.5"
  }
 },
 "nbformat": 4,
 "nbformat_minor": 2
}
